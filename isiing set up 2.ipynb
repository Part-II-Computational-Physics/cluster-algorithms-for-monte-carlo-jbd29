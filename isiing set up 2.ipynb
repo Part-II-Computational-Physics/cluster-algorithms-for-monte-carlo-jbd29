{
 "cells": [
  {
   "attachments": {},
   "cell_type": "markdown",
   "metadata": {},
   "source": [
    "# Computing Project\n",
    "\n",
    "# Monte Carlo and cluster algorithms for the 2D Ising Model and 2D Hard Disk module\n",
    "\n",
    "The Ising model for ferromagnets is a common and well researched statistical mechanics problem computationally and analytically. Many different algorithms with differing complexities and strengths are used to simulate the behaviour of this model. In this report I will analyse the behaviour and complexity of 2 such algorithms: the Metropolis-Hastings and Wolff Cluster algorithms. I will focus particularly on the behaviour of observables at and around the critical temperature, where these models differ significantly\n",
    "\n",
    "*TALK ABOUT HARD DISK MODEL*\n",
    "\n",
    "## Section 1 - Background theory\n",
    "\n",
    "The Ising model considers individual spins, $\\sigma_i$, arranged in space. For the purposes of this report, we will place spins on an $L\\times L$ square lattice. This model assumes that these individual spins may only be spin up or down, i.e. $\\sigma_i = \\pm 1$, and that each spin interacts with only its nearest neighbours on the lattice. The total energy of the system is then:\n",
    "\n",
    "$ E = -J \\sum_i \\sum_j \\sigma_i \\sigma_j - \\mu H \\sum_i \\sigma_i $ (1)\n",
    "\n",
    "where for each spin $i$ we sum over its nearest neighbours, $j$. Additionally, $J$ is the ferromagnetic coupling, $\\mu$ is the spin's magnetic moment and $H$ is the external magnetic field. In this report, we will largely (COMPLETLEY??) be considering the zero external magnetic field approach.\n",
    "\n",
    "Typical observables of interest for this system are the magnetism,\n",
    "\n",
    "$ M  = \\frac{1}{N} \\sum_{i = 1}^N \\sigma_i $ (2)\n",
    "\n",
    "or, for ensemble systems, the expected total magnetism:\n",
    "\n",
    "$ \\mathbb{E}(M) = \\sum_{\\sigma states} M(\\sigma)p(\\sigma)$ (3)\n",
    "\n",
    "with $p(\\sigma)$ being the probabilty density for a specific $\\sigma$ state. From statistical mechanics, recall that for such a system,\n",
    "\n",
    "$ p(\\sigma) = \\frac{e^{- \\beta E}}{Z} $ (4)\n",
    "\n",
    "Where $Z = \\sum_{states} e^{-\\beta E_{state}}$ is the partition function, and $\\beta = \\frac{1}{k_b T}$. For convenience, $\\beta = 1$ throughout this report.\n",
    "\n",
    "However, for a general ising system, whilst $Z$ is constant it is feasibly calculable. To illustrate this consider an $N \\times N$ lattice of spins. To compute $Z$, we must (at worst) sum up $2^N$ terms for each possible lattice configuration; this sum quickly becomes astronomic in scale. Hence, we must approach this problem in a manner that depends only on relative likelihood, not absolute probability.\n",
    "\n",
    "In some limiting cases, the behaviour of this system is analytically solvable, for example the Onsager solution for 2 dimensions with no external field, this is typically tedious, or infeasibly complex. This is the motivation for studying this system with computational methods. However, comparison of computational methods to the establsihed Onsager solution is a convenient sanity check for the accuracy and precision.\n",
    "\n",
    "### The Onsager Solution\n",
    "\n",
    "In 1944, Onsager found an analytical expression for the free energy and magnetism of the 2D square lattice Ising model in the limit of large lattice and with no eternal magnetic field. Below is the solution for the magnetisation In the case relevant to this report, with isotropic couping:\n",
    "\n",
    "$\\mathbb{E}(M) = (1 - (sinh(2 \\beta J)^{-4}))^{\\frac{1}{8}} $ for $ T \\le T_c $\n",
    "\n",
    "$\\mathbb{E}(M) = 0$ for $ T > T_c $ (5)\n",
    "\n",
    "The non zero solution clearly is only defined if $sinh(2 \\beta J) \\ge 1$. This defines our *critical temperature*, $T_c = \\frac{2 J}{ln(1 + \\sqrt{2})} \\approx 2.27J$ . There is a continuous phase transition at $T = T_c$ at which the spins rapidly transition from ordered to disordered. Below is a plot absolute mean magnetisation per spin for $J = 1$ for this solution:"
   ]
  },
  {
   "cell_type": "code",
   "execution_count": 29,
   "metadata": {},
   "outputs": [
    {
     "data": {
      "image/png": "[encoded data removed]",
      "text/plain": [
       "<Figure size 640x480 with 1 Axes>"
      ]
     },
     "metadata": {},
     "output_type": "display_data"
    }
   ],
   "source": [
    "# Firstly, import necessary modules for our program:\n",
    "import numpy as np\n",
    "rng = np.random.default_rng()  \n",
    "import matplotlib.pylab as plt\n",
    "import timeit\n",
    "import time\n",
    "\n",
    "# Plot Onsager solution, J = 1:\n",
    "J = 1\n",
    "Ts = np.linspace(0.01,5,1000)\n",
    "T_c = 2*J/np.log(1 + np.sqrt(2)) # Critical temperature\n",
    "\n",
    "# Construct absolute magnetism:\n",
    "M_analytic = []\n",
    "\n",
    "for T in Ts:\n",
    "    if T < T_c:\n",
    "        M_analytic.append(np.power(1 - np.power(np.sinh(2*J/T),-4),1/8))\n",
    "    else:\n",
    "        M_analytic.append(0)\n",
    "\n",
    "# Plot:\n",
    "plt.plot(Ts, M_analytic, color = 'black')\n",
    "plt.plot(np.full((5,1),T_c), np.linspace(0,1,5), linestyle = '--', color = 'gray', label = r'$T_c$')\n",
    "plt.xlabel('T')\n",
    "plt.ylabel(r'$\\vert$M$\\vert$')\n",
    "plt.title('Onsager analytic solution for mean magnetisation per spin, J = ' + str(J), fontsize = 10)\n",
    "plt.legend()\n",
    "plt.show()"
   ]
  },
  {
   "attachments": {},
   "cell_type": "markdown",
   "metadata": {},
   "source": [
    "## Section 2 - Set up\n",
    "\n",
    "To begin, a model for the lattice must be produced on which to implement algorithms. For the purposes of this report, a square lattice with periodic boundary conditions will be used. For example, the nearest neighbours of a spin situated of the right hand edge of the lattice will include a spin on the left hand edge in the same row. The lattice is initiated with a function that produces a list of $N$ items, with each item itself being a list of $N$ items. This trivially has shape $(N,N)$, with each spin having an index $(i,j)$. Each value will be $\\pm 1$, and this function will be able to either initiate the lattice in a 'hot' state, with each spin being randomly assigned, or a 'cold' start, where all spins hold the same value. This code is included below, along with a function that allows a visual representation of an input lattice:"
   ]
  },
  {
   "cell_type": "code",
   "execution_count": 2,
   "metadata": {},
   "outputs": [],
   "source": [
    "\n",
    "\n",
    "# Now, produce function that produces a lattice when given desired width and initial state:\n",
    "def make_lattice(width, type):\n",
    "    # type takes arguments setting initial spin config:\n",
    "    # +/-1 sets lattice to all be +/-1, 0 for random initial spins\n",
    "\n",
    "    if type != 0:\n",
    "        lattice = type*np.ones((width,width))\n",
    "    else:\n",
    "        lattice = np.random.default_rng().choice([-1,1], (width,width))\n",
    "\n",
    "    return lattice\n",
    "\n",
    "# Finally, produce function that graphically displays the lattice as a colourmap, using a binary colour scheme due to the binary values in question:\n",
    "def show_lattice(lattice, axis, title):\n",
    "    # write a function to display our output lattices as an image:\n",
    "    axis.matshow(lattice, cmap=plt.cm.binary, vmin = -1, vmax = 1)\n",
    "    axis.set_xticks([])\n",
    "    axis.set_yticks([])\n",
    "    axis.set_title(title, fontsize = 10)\n"
   ]
  },
  {
   "attachments": {},
   "cell_type": "markdown",
   "metadata": {},
   "source": [
    "Below are visualisations of the three possible initial conditions:"
   ]
  },
  {
   "cell_type": "code",
   "execution_count": 3,
   "metadata": {},
   "outputs": [
    {
     "data": {
      "image/png": "[encoded data removed]",
      "text/plain": [
       "<Figure size 640x480 with 3 Axes>"
      ]
     },
     "metadata": {},
     "output_type": "display_data"
    }
   ],
   "source": [
    "# Initialise lattices:\n",
    "lattice_cold_plus = make_lattice(30,1)\n",
    "lattice_cold_minus = make_lattice(30,-1)\n",
    "lattice_hot = make_lattice(30,0)\n",
    "\n",
    "# Plot lattices:\n",
    "fig, ax = plt.subplots(1,3)\n",
    "show_lattice(lattice_hot, ax[0], 'Hot')\n",
    "show_lattice(lattice_cold_plus, ax[1], r'Cold, $\\sigma$ = +1')\n",
    "show_lattice(lattice_cold_minus, ax[2], r'Cold, $\\sigma$ = -1')"
   ]
  },
  {
   "attachments": {},
   "cell_type": "markdown",
   "metadata": {},
   "source": [
    "Additionally, a number of other helpful functions can be created to streamline our implementations. Firstly, to compute the energy of a lattice, the sum of nearest neighbour spins for each site is required. A function is included below that returns the 4 nearest neighbours of a give spin at $(i,j)$ including a consideration of the periodic boundary conditions by utilising a modulus function. A further function that returns the nearest neighbours spin sum is also included:"
   ]
  },
  {
   "cell_type": "code",
   "execution_count": 4,
   "metadata": {},
   "outputs": [],
   "source": [
    "\n",
    "def near_neighbours(i, j, width):\n",
    "    # using periodic BCs, must make sure spin sums correctly roll over, ie the neighbours of spin [width,width] include [0,width] \n",
    "    # etc. neighbours returned in the format (Right, Left, Up, Down)\n",
    "    neighbours = [[(i+1)%width,j],[(i-1)%width,j],[i,(j-1)%width],[i,(j+1)%width]]\n",
    "    return neighbours\n",
    "\n",
    "def neighbouring_spins_sum(i, j, lattice, width):\n",
    "    spin = 0\n",
    "    neighbours = near_neighbours(i,j,width)\n",
    "    for neighbour in neighbours:\n",
    "        spin += lattice[neighbour[0],neighbour[1]]\n",
    "    return spin"
   ]
  },
  {
   "attachments": {},
   "cell_type": "markdown",
   "metadata": {},
   "source": [
    "Finally, functions that compute observables of interest for a given lattice are included below. These include average magnetisation per spin, $M$:\n",
    "\n",
    "$ M = \\frac{1}{N} \\sum_{i} \\sigma_i$ (6)\n",
    "\n",
    "Magnetic susceptibility, $\\chi$:\n",
    "\n",
    "$ \\chi = \\beta N (\\mathbb{E}(M^2) - \\mathbb{E}(M)^2) = \\beta N Var(M) $ (7)"
   ]
  },
  {
   "cell_type": "code",
   "execution_count": 5,
   "metadata": {},
   "outputs": [],
   "source": [
    "def compute_magnetisation(lattice):\n",
    "    # finds overall magnetisation per spin of the lattice \n",
    "    M = np.sum(lattice)/np.size(lattice)\n",
    "    return M\n",
    "\n",
    "def compute_Chi(lattice, beta, M_Sample):\n",
    "    # takes in a last of magnetisations from some sampling scheme\n",
    "    # and returns susceptibility \n",
    "    return beta*np.size(lattice)*np.var(M_Sample)"
   ]
  },
  {
   "attachments": {},
   "cell_type": "markdown",
   "metadata": {},
   "source": [
    "## Section 3 - The algorithms\n",
    "\n",
    "The algorithms we study here are all variations of a Markov Chain Monte Carlo (MCMC) method, to approach and evolve the desired physical state. Direct sampling Monte Carlo, while simpler, requires individually producing each state $X_i$. This is infeasibly slow. Instead, we use the MCMC methods, which produce a state $X_{i + 1}$ from an alteration of the $X_i$ state.\n",
    "\n",
    "The MCMC starts with some initial state, $x_0$, and a state $x_{i+1}$ is produced from a state $x_i$ with a transition probability $p(x_{i + 1} \\vert x_{i})$. Therefore the the chance of a particular sequence of states from $x_0$ to $x_n$ is:\n",
    "\n",
    "$p_{path}(x_0 \\rightarrow x_n) = p(x_0)\\prod_{i = 0}^n p(x_{i + 1} \\vert x_{i})$ (8)\n",
    "\n",
    "*(This assumes that our markov chain is time homogenous, i.e. the chance of the transition $i \\rightarrow j$ is irrelevant of the step in which the transition occurs)*\n",
    "\n",
    "Suppose now we wish to simply find the chance of arriving at the state $x_n$ in $n$ steps, $p^{(n)}(x)$, regardless of path. Naively, this would involve summing over every singly possible path to every single possible final value to get the full distribution.\n",
    "\n",
    "This can also be represented as taking a vector $\\overrightarrow{p}^{(1)}$ whose $j^{th}$ element is $p^{(1)}(j)$ and acting on it $n-1$ times with a matrix $\\textbf{P}$, with elements $\\textbf{P}_{ij} = p(i \\vert j)$:\n",
    "\n",
    "$ \\overrightarrow{p^{(n)}} = \\textbf{P}^{n-1} \\overrightarrow{p^{(1)}} $ (9)\n",
    "\n",
    "For physical systems that reach equilibrium, we expect that, as $ n \\rightarrow \\infty$, our state vector will approach an unchanging distribution. This is called the *stationary distribution* and is commonly represented with $\\pi$. As this stationary distribution does not change, trivially:\n",
    "\n",
    "$ \\pi\\textbf{P} = \\pi$ (10)\n",
    "\n",
    "To implement our MCMC algorithms, we look for a method to find our transition matrix $\\textbf{P}$ from our intended stationary distribution. However, for complicated systems such as the Ising model studied here, we cannot simply supply $\\pi$. Therefore we must take a different approach.\n",
    "\n",
    "Firstly, we note that our energy equation above is time-reversal symmetric as is the system, hence the probability of $i \\rightarrow j$ is equal to the probability $j \\rightarrow i$ for a step in our chain.\n",
    "\n",
    "From this follows:\n",
    "\n",
    "$ \\pi_j\\textbf{P}_{jk} = \\pi_k = \\textbf{P}_{jk}\\pi_k $ (11)\n",
    "\n",
    "using the eigenvector property of $\\pi$ additionally. This constraint is known as *detailed balance*, and allows us to find simpler distributions to use to find approach our static distribution.\n",
    "\n",
    "To approach this, we split each element of $\\textbf{P}$ into a proposal probability distribution, $p_prop(j \\vert k)$, that gives the chance of attempting to reach state $k$ from $j$, and an acceptance distribution, $p_{acc}(j \\rightarrow k)$, that gives the chance of the change of state being accepted:\n",
    "\n",
    "$ p( j \\vert k) = p_{acc}(j \\rightarrow k) p_{prop}(j \\vert k) $ (12)\n",
    "\n",
    "With this and the detailed balance condition, we arrive at the condition:\n",
    "\n",
    "$\\frac{p_{acc}(j \\rightarrow k)}{p_{acc}(k \\rightarrow j)} = \\frac{\\pi_k}{\\pi_j} \\frac{p_{prop}(j \\vert k)}{p_{prop}(k \\vert j)} $ (13)\n",
    "\n",
    "We seek a $p_{acc}$ that satisfies this constraint.\n",
    "\n",
    "### The Metropolis-Hastings algorithm\n",
    "\n",
    "The Metropolis-Hasting (MH) algorithm follows the above logic, and the choice of $p_{acc}$ is:\n",
    "\n",
    "$p_{acc}(j \\rightarrow k) = min(1,\\frac{\\pi_k}{\\pi_j} \\frac{p_{prop}(j \\vert k)}{p_{prop}(k \\vert j)})$ (14)\n",
    "\n",
    "The general MH algorithm proceeds as follows from a starting state $j$:\n",
    "\n",
    "1. From our initial state $j$, pick a new state $k$ in line with the $p_{prop}$ distribution.\n",
    "2. Accept the transition to $k$ with probability $p_{acc}(j \\rightarrow k)$, and move to state $k$, or   reject the move (with probability $ 1 - p_{acc}(j \\rightarrow k )$) and remain in state $j$.\n",
    "3. Return to 1.\n",
    "\n",
    "This algorithm does not have a defined end point, so the end point is determined in this report by a predetermined number of iterations.\n",
    "\n",
    "To apply this to the Ising model, we take our states $j, k, etc.$ to be unique arrangements of our spins in our lattice. This means for a lattice containing $N$ spins, we have $2^N$ possible states. New states $k$ are generated by choosing a random spin in $j$ and flipping it. The spin to flip is chosen from a uniform random distribution, hence $p_{prop}(k \\vert j) = \\frac{1}{N}$. Our stationary distributions are equation (4), combining this with (11):\n",
    "\n",
    "$p_{acc}(j \\rightarrow k) = min(1, \\frac{e^{-\\beta E_k}}{e^{- \\beta E_j}}) = min(1, e^{-\\beta \\Delta E})$ (15)\n",
    "\n",
    "From equation (1),\n",
    "\n",
    "$\\Delta E = 2 J \\sigma_i \\sum_j \\sigma_j + 2 \\mu H \\sigma_i  $ (16)\n",
    "\n",
    "For the flip of a spin at a location $i$, with near neighbours $j$\n",
    "\n",
    "This algorithm is easy to implement, but has a few shortcomings. Firstly, about the critical temperature, $T_c$, where the lattice undergoes a sharp change in behaviour, the MH algorithm displays an inherent issue of critical slowing down - the lattice has global behaviour which cannot be captured in flipping a single spin, and hence many iterations are required to reach a reliable stationary distribution. An implementation of this algorithm is below."
   ]
  },
  {
   "cell_type": "code",
   "execution_count": 6,
   "metadata": {},
   "outputs": [],
   "source": [
    "# Compute Delta E for a lattice site (i,j) (14):\n",
    "def compute_deltaE(i, j, lattice, J, MuH):\n",
    "    # computes the change in energy for flipping a single spin at (i,j) within the lattice\n",
    "    width = len(lattice)\n",
    "    deltaE = 2*J*lattice[i][j]*neighbouring_spins_sum(i,j,lattice,width) + 2*MuH*lattice[i][j]\n",
    "    return deltaE\n",
    "\n",
    "# Produce a single loop of the MH algorithm:\n",
    "def MC_spin_flip(lattice, beta, J, MuH):\n",
    "    width = len(lattice)\n",
    "    # find a random lattice site\n",
    "    i, j = np.random.randint(width, size = 2)\n",
    "    # compute the energy if we were to flip it\n",
    "    betadeltaE = beta*compute_deltaE(i,j, lattice,J,MuH)\n",
    "    # use p_acc to determine if our new state is accepted:\n",
    "    if betadeltaE <= 0:\n",
    "        lattice[i][j] = -1*lattice[i][j] #accepted\n",
    "    elif np.exp(-1*betadeltaE) >= np.random.default_rng().random():\n",
    "        lattice[i][j] = -1*lattice[i][j] #accepted\n",
    "    # rejected if does not satisfy either of above."
   ]
  },
  {
   "attachments": {},
   "cell_type": "markdown",
   "metadata": {},
   "source": [
    "Finally, for ease of use, functions that evolve a lattice a predetermined set of times and plot it, or produce an iteration series of a variable are included below:"
   ]
  },
  {
   "cell_type": "code",
   "execution_count": 7,
   "metadata": {},
   "outputs": [],
   "source": [
    "def evolve_and_show(lattice, beta, J, MuH, plot_times):\n",
    "    # set up subplots for the lattice\n",
    "    fig, ax = plt.subplots(1, len(plot_times), figsize = (12,4))\n",
    "    sweeps = [t/np.size(lattice) for t in plot_times]\n",
    "    # evolve lattice for all the times in plot times\n",
    "    for t in range(plot_times[-1] + 1):\n",
    "        if t>0:\n",
    "            MC_spin_flip(lattice,beta,J,MuH)\n",
    "        if t in plot_times:\n",
    "            show_lattice(lattice, ax[plot_times.index(t)], str(sweeps[plot_times.index(t)]) + ' sweeps')\n",
    "    plt.show()\n",
    "\n",
    "# Write functions to evolve and measure certain observables:\n",
    "def evolve_and_compute_M(lattice, beta, J, MuH, max_time):\n",
    "    # finds a time evolution of magnetisations to plot\n",
    "    Ms = []\n",
    "    sweeps = []\n",
    "    for t in range(max_time):\n",
    "        if t>0:\n",
    "            MC_spin_flip(lattice, beta, J, MuH)\n",
    "        Ms.append(compute_magnetisation(lattice))\n",
    "        sweeps.append(t/np.size(lattice))\n",
    "    return Ms, sweeps\n"
   ]
  },
  {
   "attachments": {},
   "cell_type": "markdown",
   "metadata": {},
   "source": [
    "Sweeps are defined as the number of attempted spin flips per lattice site, i.e. $ sweeps = N_{flips} \\times N_{spins} $. Sweeps are used instead of iterations, in anticipation of the Wolff Cluster algorithm, which flips more than one spin at a time. This makes sweeps a better measure of physical time progressed by our agoritms."
   ]
  },
  {
   "attachments": {},
   "cell_type": "markdown",
   "metadata": {},
   "source": [
    "### The Wolff Cluster algorithm\n",
    "\n",
    "The Wolff cluster algorithm is a separate algorithm used for the Ising model. It seeks to reach the stationary distribution quicker, and mitigate the issue of critical slowing down by forming clusters of like spins within the lattice and attempting to flip them all at once. This allows it to reach likely states that are significantly different from the current state in many fewer iterations by flipping a large number of spins together in each iteration. This algorithm as applied to the Ising model proceeds as follows:\n",
    "\n",
    "1. A random site in the lattice $i$ with spin $\\sigma_i$ is picked and added to the cluster.\n",
    "2. Each neighbour of $i$ that also has spin $\\sigma_i$, is added to the cluster with probability $1- e^{-2 \\beta J}$.\n",
    "3. Repeat step 2 for each neighbour added to the cluster until no more spins are added to the cluster.\n",
    "4. Now that the cluster is defined flip each spin in the cluster and return to step 1.\n",
    "\n",
    "This is a rejection free algorithm, which means that in each iteration at least one spin is flipped and the state is changed. Therefore, this algorithm will display (usually small) fluctuations about equilibrium, whereas the MH algorithm will not necessarily. Below is an implementation of the Wolff cluster algorithm."
   ]
  },
  {
   "cell_type": "code",
   "execution_count": 14,
   "metadata": {},
   "outputs": [],
   "source": [
    "def Wolff_spin_flip(lattice, beta, J):\n",
    "    width = len(lattice)\n",
    "    # find a random lattice site as a seed\n",
    "    i, j = np.random.randint(width, size = 2)\n",
    "    seed = [i,j]\n",
    "    # find its spin to be added to cluster\n",
    "    sigma = lattice[i][j]\n",
    "    lattice[i][j] = -1*lattice[i][j]\n",
    "    cluster_size = 1\n",
    "    unvisited = [seed]\n",
    "    # calculate the addition probability for like spins\n",
    "    p_add = 1 - np.exp(-2*beta*J)\n",
    "    while (len(unvisited)>0):\n",
    "        #remove last unvisited sited and assign it as the site\n",
    "        site = unvisited.pop()\n",
    "        for neighbour in near_neighbours(site[0],site[1],width):\n",
    "            if lattice[neighbour[0],neighbour[1]] == sigma and p_add >np.random.default_rng().random():\n",
    "                # successful addition to the cluster so flip spin:\n",
    "                lattice[neighbour[0],neighbour[1]] = -1*lattice[neighbour[0],neighbour[1]]\n",
    "                # as successfull, add to unvisited neighbours, and update cluster size:\n",
    "                unvisited.append([neighbour[0],neighbour[1]])\n",
    "                cluster_size += 1\n",
    "    # Return the size of the cluster for analysis\n",
    "    return cluster_size\n",
    "\n",
    "# evolve the lattice with Wolff and show it:\n",
    "def Wolff_evolve_and_show(lattice, beta, J, plot_times):\n",
    "    fig, ax = plt.subplots(1, len(plot_times), figsize = (12,4))\n",
    "    sweeps = [0]\n",
    "    for t in range(plot_times[-1]+1):\n",
    "        if t>0:\n",
    "            cluster_size = Wolff_spin_flip(lattice, beta, J)\n",
    "            sweeps_in_iteration = cluster_size/np.size(lattice)\n",
    "            sweeps.append(sweeps[-1]+sweeps_in_iteration)\n",
    "        if t in plot_times:\n",
    "            show_lattice(lattice, ax[plot_times.index(t)], str(round(sweeps[t],3)) + ' sweeps')\n",
    "\n",
    "# evolve the lattice with Wolff and return a magnetisation time series\n",
    "def Wolff_evolve_and_compute_M(lattice, beta, J, max_time):\n",
    "    Ms = []\n",
    "    sweeps = [0]\n",
    "    for t in range(max_time):\n",
    "        if t>0:\n",
    "            cluster_size = Wolff_spin_flip(lattice, beta, J)\n",
    "            sweeps_in_iteration = cluster_size/np.size(lattice)\n",
    "            sweeps.append(sweeps[-1]+sweeps_in_iteration)\n",
    "        Ms.append(np.abs(compute_magnetisation(lattice)))\n",
    "    return Ms, sweeps\n"
   ]
  },
  {
   "attachments": {},
   "cell_type": "markdown",
   "metadata": {},
   "source": [
    "Note here that although the mathematical definition of sweeps has not changed, the implemented calculation of sweeps has. This is because more than one spin can be flipped per iteration in cluster algorithms."
   ]
  },
  {
   "attachments": {},
   "cell_type": "markdown",
   "metadata": {},
   "source": [
    "## Section 4 - Investigation\n",
    "\n",
    "To assess the use of these algorithms, a number of tests are performed below. Firstly, a pictoral representation of the algorithms in the presence of no magnetic field or coupling from a cold start is included below. We expect the spins to reach a thermal equilibrium with roughly zero net spin and random spin position.  "
   ]
  },
  {
   "cell_type": "code",
   "execution_count": 33,
   "metadata": {},
   "outputs": [
    {
     "name": "stdout",
     "output_type": "stream",
     "text": [
      "Metropolis Hastings evolution, J = 0:\n"
     ]
    },
    {
     "data": {
      "image/png": "[encoded data removed]",
      "text/plain": [
       "<Figure size 1200x400 with 5 Axes>"
      ]
     },
     "metadata": {},
     "output_type": "display_data"
    },
    {
     "name": "stdout",
     "output_type": "stream",
     "text": [
      "Ran in 1.8293070793151855 seconds\n"
     ]
    }
   ],
   "source": [
    "# Initialise lattice\n",
    "lattice = make_lattice(25,1)\n",
    "plot_times = [0,100,1000,10000,100000]\n",
    "# Time run length:\n",
    "print('Metropolis Hastings evolution, J = 0:')\n",
    "start_time = time.time()\n",
    "# Evolve\n",
    "evolve_and_show(lattice, 2, 0,0, plot_times)\n",
    "end_time = time.time()\n",
    "print('Ran in ' + str(end_time - start_time) + ' seconds')"
   ]
  },
  {
   "cell_type": "code",
   "execution_count": 34,
   "metadata": {},
   "outputs": [
    {
     "name": "stdout",
     "output_type": "stream",
     "text": [
      "Wolff Cluster evolution, J = 0:\n",
      "Ran in 9.931463956832886 seconds\n"
     ]
    },
    {
     "data": {
      "image/png": "[encoded data removed]",
      "text/plain": [
       "<Figure size 1200x400 with 5 Axes>"
      ]
     },
     "metadata": {},
     "output_type": "display_data"
    }
   ],
   "source": [
    "# Re-initialise lattice\n",
    "lattice = make_lattice(25,1)\n",
    "print('Wolff Cluster evolution, J = 0:')\n",
    "# Time run length:\n",
    "start_time = time.time()\n",
    "# Evolve\n",
    "Wolff_evolve_and_show(lattice, 2, 0, plot_times)\n",
    "\n",
    "end_time = time.time()\n",
    "\n",
    "print('Ran in ' + str(end_time - start_time) + ' seconds')"
   ]
  },
  {
   "attachments": {},
   "cell_type": "markdown",
   "metadata": {},
   "source": [
    "This pictoral evolution is similar for both algorithms, and performs as expected. Note that in this case, as $J = 0$, the probability of Wolff to add a second spin to the cluster is $0$, and hence Wolff flips only a single spin in each iteration. It is also clear that in this case the Wolff algorithm runs $\\sim 5 \\times$ slower. This will be explored further below.\n",
    "\n",
    "Now, the algorithms will be implemented to determine their agreeability to the Onsager solution."
   ]
  },
  {
   "cell_type": "code",
   "execution_count": 51,
   "metadata": {},
   "outputs": [],
   "source": [
    "lattice_MH = make_lattice(25,1)\n",
    "lattice_Wolff = make_lattice(25,1)\n",
    "Ts_MH = np.linspace(0.1,5,30)\n",
    "Ms_MH = []\n",
    "Ms_Wolff = []\n",
    "avg_times = [100000, 150000, 200000]\n",
    "\n",
    "for T in Ts_MH:\n",
    "    MH_Ms = evolve_and_compute_M(lattice_MH,T**-1, 1, 0, 200001)[0]\n",
    "    Wolff_Ms = Wolff_evolve_and_compute_M(lattice_Wolff, T**-1,1,200001)[0]\n",
    "    Ms_Wolff.append(np.mean([Wolff_Ms[i] for i in avg_times]))\n",
    "    Ms_MH.append(np.mean([MH_Ms[i] for i in avg_times]))\n",
    "\n",
    "print(Ms_MH)\n",
    "print(Ms_Wolff)"
   ]
  },
  {
   "cell_type": "code",
   "execution_count": null,
   "metadata": {},
   "outputs": [],
   "source": [
    "np.save('MH_M_against_T',Ms_MH)\n",
    "np.save('Wolff_M_against_T',Ms_Wolff)"
   ]
  },
  {
   "cell_type": "code",
   "execution_count": 49,
   "metadata": {},
   "outputs": [
    {
     "data": {
      "image/png": "[encoded data removed]",
      "text/plain": [
       "<Figure size 640x480 with 1 Axes>"
      ]
     },
     "metadata": {},
     "output_type": "display_data"
    }
   ],
   "source": [
    "plt.plot(Ts_MH, Ms_MH, label = 'Metropolis')\n",
    "plt.plot(Ts, M_analytic, color = 'black', label  = 'Onsager solution')\n",
    "plt.plot(np.full((5,1),T_c), np.linspace(np.min(Ms_MH),1,5), linestyle = '--', color = 'gray', label = r'$T_c$')\n",
    "plt.xlabel('T')\n",
    "plt.ylabel(r'$\\vert$M$\\vert$')\n",
    "plt.show()"
   ]
  },
  {
   "attachments": {},
   "cell_type": "markdown",
   "metadata": {},
   "source": [
    "It is clear that while the MH algorithm perfoms with good agreement to the Onsager solution with $T$ far from $T_c$, the behaviour near the critical temperature deviates significantly from the Onsager solution. This a representation of the issue of *critical slowing down* for the MH algorithm. About the critical temperature, the lattice fluctuates on all scales. This behaviour cannot be reproduced by the local single spin flips by which MH proceeds, and hence to get a reliable simulation near $T_c$, an infeasibly large number of iterations is needed.\n",
    "\n",
    "**WOLFF COMMENTS**\n",
    "\n",
    "## Autocorrelation Time\n",
    "\n",
    "It is already clear that the MH algorithm **WOLFF** cannot accurateley simulate the phase change of the ising model as it take many iterations to alter the lattice state significantly. This is equivalent to saying that the autocorrelation time becomes very large about $T_c$. To estimate the autocorrelation time, the *sample autocorrelation*, $\\bar\\rho(t)$ is required:\n",
    "\n",
    "$\\bar\\rho(t) = \\frac{\\bar\\gamma(t)}{\\bar\\gamma(0)}$ (17)\n",
    "\n",
    "Where $\\bar\\gamma(t)$ is the *sample autocovariance*, defined below:\n",
    "\n",
    "$\\bar\\gamma(t) = \\frac{1}{n-t}\\sum_{i=1}^{n-t}(f(X_i)-\\bar f(X))(f(X_{i+t})-\\bar f(X))$ (18)\n",
    "\n",
    "This sample autocorrelation is a convenient measure of the degree of correlation of the observable $f$ on state $X_t$ at time $t$ with other states in the chain. To determine autocorrelation time, it is assumed that $\\bar\\rho(t)$ decays exponentially, with the characteristic decay scale of the autocorrelation time, $\\tau_f$:\n",
    "\n",
    "$\\bar\\rho(t) \\approx e^{{t}/{\\tau_f}}$ (19)\n",
    "\n",
    "Under this assumption, the autocorrelation time is estimated by the time of the first value of $\\bar\\rho(t)$ such that $\\bar\\rho(t) \\le \\frac{1}{e}$. Below is a set of functions to determine $\\bar\\gamma(t)$, $\\bar\\rho(t)$ and $\\tau_f$ for a time series of magnetisation values:"
   ]
  },
  {
   "cell_type": "code",
   "execution_count": null,
   "metadata": {},
   "outputs": [],
   "source": [
    "def compute_autocovariance(observable, max_time):\n",
    "    # Find array of differences from mean for the time series observable\n",
    "    diff_from_mean = observable - np.mean(observable)\n",
    "    # Return the sum term of equation (18). This is most conveniently done by dotting the appropriate list ranges together.\n",
    "    return np.array([np.dot(diff_from_mean[:len(observable)-t],diff_from_mean[t:])/(len(observable)-1) for t in range(max_time)])\n",
    "\n",
    "def estimate_correlation_time(autocov):\n",
    "    # estimate the auto correlation time\n",
    "    # firstly, if all covariances are so small they round to zero, correlation \n",
    "    # time is zero as system is equilibrated. For nz covariances, asssume they\n",
    "    # have a well behaved exponential decay behaviour, and estimate correlation \n",
    "    # time as the index of the first value below autocov[0]/e:\n",
    "    below_e = []\n",
    "    if np.count_nonzero(autocov) == 0:\n",
    "        correlation_time = 0\n",
    "    else:\n",
    "        for i in range(len(autocov)):\n",
    "            if autocov[i] < np.exp(-1)*autocov[0]:\n",
    "                below_e.append(i)\n",
    "        correlation_time = below_e[0] if len(below_e) > 0 else len(autocov)\n",
    "        \n",
    "    return correlation_time"
   ]
  },
  {
   "attachments": {},
   "cell_type": "markdown",
   "metadata": {},
   "source": [
    "Not that, for values far from $T_c$, the autocorrelation is sufficiently small that python's 64-bit floats round it to zero. In this case, equation (19) can not be applied, and the autocorrelation time must be assumedto be $0$. The below code plots the sample autocorrelation against sweeps for different physical conditions using both the Wolff and MH algorithms:\n",
    "\n",
    "MH:"
   ]
  },
  {
   "cell_type": "code",
   "execution_count": null,
   "metadata": {},
   "outputs": [],
   "source": [
    "# Initialise\n",
    "lattice = make_lattice(25,1)\n",
    "max_time = 50000\n",
    "T = 1\n",
    "\n",
    "# Evolve the lattice with MH\n",
    "Ms, sweeps = evolve_and_compute_M(lattice,T**-1,1,0,max_time)\n",
    "\n",
    "# Find autocovariance, and the autocorrelation time (in sweeps)\n",
    "autocov = compute_autocovariance(Ms, max_time)\n",
    "tau_f = estimate_correlation_time(autocov)\n",
    "sweeps_tau_f = tau_f/np.size(lattice)\n",
    "# find sample autocorrelation (equation 17)\n",
    "autocorr = [x/autocov[0] if x != 0 else 0 for x in autocov]\n",
    "\n",
    "# plot computed autocorrelation\n",
    "plt.plot(sweeps,autocorr, color = 'black', label = r'$\\bar{\\rho}(t)$')\n",
    "# plot expected exponential decay behaviour\n",
    "plt.plot(sweeps,[np.exp(-t/sweeps_tau_f) for t in sweeps], label = r'$exp(-t/ \\tau_f)$')\n",
    "# plot 1/e line\n",
    "plt.plot(sweeps, [np.exp(-1) for x in sweeps], label = r'$1/e$', linestyle = '--')\n",
    "plt.xlabel('Sweeps, t')\n",
    "plt.ylabel(r'$\\tau_f$')\n",
    "plt.title(r'Autocorrelation against sweeps for Metropolis-Hastings, $\\tau_f$ = ' + str(round(sweeps_tau_f,3)) + ' sweeps')\n",
    "plt.legend()\n",
    "plt.show()\n"
   ]
  },
  {
   "attachments": {},
   "cell_type": "markdown",
   "metadata": {},
   "source": [
    "Wolff:"
   ]
  },
  {
   "cell_type": "code",
   "execution_count": null,
   "metadata": {},
   "outputs": [],
   "source": [
    "# Initialise\n",
    "lattice = make_lattice(25,1)\n",
    "max_time = 50000\n",
    "T = 1\n",
    "\n",
    "# Evolve the lattice with Wolff\n",
    "Ms, sweeps = Wolff_evolve_and_compute_M(lattice,T**-1,1,max_time)\n",
    "\n",
    "# Find autocovariance, and the autocorrelation time (in sweeps)\n",
    "autocov = compute_autocovariance(Ms, max_time)\n",
    "sweeps_tau_f = sweeps[estimate_correlation_time(autocov)]\n",
    "# Find sample autocorrelation (equation 17)\n",
    "autocorr = [x/autocov[0] if x != 0 else 0 for x in autocov]\n",
    "\n",
    "# plot computed autocorrelation\n",
    "plt.plot(sweeps,autocorr, color = 'black', label = r'$\\bar{\\rho}(t)$')\n",
    "# plot expected exponential decay behaviour\n",
    "plt.plot(sweeps,[np.exp(-t/sweeps_tau_f) for t in sweeps], label = r'$exp(-t/ \\tau_f)$')\n",
    "# plot 1/e line\n",
    "plt.plot(sweeps, [np.exp(-1) for x in sweeps], label = r'$1/e$', linestyle = '--')\n",
    "plt.xlabel('Sweeps, t')\n",
    "plt.ylabel(r'$\\tau_f$')\n",
    "plt.title(r'Autocorrelation against sweeps for Wolff, $\\tau_f$ = ' + str(round(sweeps_tau_f,3)) + ' sweeps')\n",
    "plt.legend()\n",
    "plt.show()"
   ]
  },
  {
   "attachments": {},
   "cell_type": "markdown",
   "metadata": {},
   "source": [
    "Both computed $\\bar\\rho(t)$ conform nicely to the expected exponential decay, with noisy behaviour that is apparent after a few autocorrelation times. It is also apparent that the autocorrelation time is smaller for the Wolff algorithm than the MH algorithm for the same given initial conditions. This is a reflection of the larger scale updates made by the Wolff algorithm, allowing it to explore the state space in fewer iterations. This is an indication that the Wolff algorithm has a less pronounced issue of ciritical slowing down. To explore this further, the dependence of autocorrelation time on temperature will be explored below:\n",
    "Metropolis Hastings:"
   ]
  },
  {
   "cell_type": "code",
   "execution_count": null,
   "metadata": {},
   "outputs": [],
   "source": [
    "# Initialise required variables\n",
    "Ts = np.linspace(0.1,5,15)\n",
    "max_time = 100000\n",
    "autocorr_times = []\n",
    "\n",
    "for T in Ts:\n",
    "    # Lattice must be reset in each iteration\n",
    "    lattice = make_lattice(30,1)\n",
    "    # evolve the lattice\n",
    "    Ms = evolve_and_compute_M(lattice, T**-1, 1, 0, max_time)[0]\n",
    "    # find autocorrelation time and add to list.\n",
    "    autocov = compute_autocovariance(Ms, max_time)\n",
    "    sweeps_tau_f = estimate_correlation_time(autocov)/np.size(lattice)\n",
    "    autocorr_times.append(sweeps_tau_f)\n"
   ]
  },
  {
   "cell_type": "code",
   "execution_count": null,
   "metadata": {},
   "outputs": [],
   "source": [
    "# plot the data:\n",
    "plt.plot(T,autocorr_times, label = r'$\\tau_f$ estimates')\n",
    "# mark T_c:\n",
    "plt.plot(np.full((10,1),T_c),np.linspace(0,np.max(autocorr_times)+1,10), color = 'gray', linestyle = '--', label = r'$T_c$')\n",
    "plt.xticks([0,1,2,3,4,5])\n",
    "plt.legend()\n",
    "plt.xlabel('T')\n",
    "plt.ylabel(r'$\\tau_f$ in sweeps')\n",
    "plt.title(r'$\\tau_f$ for magnetisation against temperature, Metropolis-Hastings')\n",
    "plt.show()"
   ]
  },
  {
   "attachments": {},
   "cell_type": "markdown",
   "metadata": {},
   "source": [
    "Wolff:"
   ]
  },
  {
   "cell_type": "code",
   "execution_count": null,
   "metadata": {},
   "outputs": [],
   "source": [
    "# Initialise required variables\n",
    "Ts = np.linspace(0.5,10,15)\n",
    "max_time = 1000\n",
    "autocorr_times = []\n",
    "\n",
    "\n",
    "for T in Ts:\n",
    "    # Lattice must be reset after each iteration\n",
    "    lattice = make_lattice(30,1)\n",
    "    # evolve the lattice\n",
    "    Ms, sweeps = Wolff_evolve_and_compute_M(lattice, T**-1, 1, max_time)\n",
    "    # find autocorrelation time and add to list.\n",
    "    autocov = compute_autocovariance(Ms, max_time)\n",
    "    sweeps_tau_f = sweeps[estimate_correlation_time(autocov)]\n",
    "    autocorr_times.append(sweeps_tau_f)\n",
    "\n",
    "plt.plot(T,autocorr_times, label = r'$\\tau_f$ estimates')\n",
    "plt.plot(np.full((2,1),T_crit),np.linspace(0,np.max(autocorr_times),2), linestyle = '--', color = 'gray', label = r'$T_c$')\n",
    "plt.title(r'$\\tau_f$ for magnetisation against temperature, Wolff')\n",
    "plt.ylabel(r'$\\tau_f$ in sweeps')\n",
    "plt.xlabel('T')\n",
    "plt.legend()\n",
    "plt.show()"
   ]
  },
  {
   "attachments": {},
   "cell_type": "markdown",
   "metadata": {},
   "source": [
    "It is evident that the autocorrelation time for both algorithms is larger around $T_c$. However, the wolff algorithm maintains a smaller autocorrelation time around this point, again showing that the larger scale updates allow for much better modelling of the Ising model's phase transition."
   ]
  },
  {
   "attachments": {},
   "cell_type": "markdown",
   "metadata": {},
   "source": [
    "### Complexity"
   ]
  },
  {
   "attachments": {},
   "cell_type": "markdown",
   "metadata": {},
   "source": [
    "### Efficiency"
   ]
  },
  {
   "attachments": {},
   "cell_type": "markdown",
   "metadata": {},
   "source": [
    "# CODE IN PROGRESS"
   ]
  },
  {
   "cell_type": "code",
   "execution_count": 463,
   "metadata": {},
   "outputs": [],
   "source": [
    "# Now we will make some batching methods to estimate observables from our sample once equilibrated\n",
    "\n",
    "def jackknife_sample_M(data, num):\n",
    "    batches = np.array_split(data,num)\n",
    "    values = []\n",
    "    for i in range(num):\n",
    "        temp = batches[:i] + batches[i+1:]\n",
    "        data_batch = []\n",
    "        for j in temp:\n",
    "            for k in j:\n",
    "                data_batch.append(k)\n",
    "        values.append(avg_magnetisation(data_batch))\n",
    "    return np.mean(values), np.std(values)/np.sqrt(num-1)\n",
    "\n",
    "#def jackknife_sample_chi(data, beta, width,)\n",
    "## TO FINISH\n",
    "    "
   ]
  }
 ],
 "metadata": {
  "kernelspec": {
   "display_name": "Python 3",
   "language": "python",
   "name": "python3"
  },
  "language_info": {
   "codemirror_mode": {
    "name": "ipython",
    "version": 3
   },
   "file_extension": ".py",
   "mimetype": "text/x-python",
   "name": "python",
   "nbconvert_exporter": "python",
   "pygments_lexer": "ipython3",
   "version": "3.10.1"
  },
  "orig_nbformat": 4
 },
 "nbformat": 4,
 "nbformat_minor": 2
}
